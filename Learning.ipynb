{
 "cells": [
  {
   "cell_type": "code",
   "execution_count": 5,
   "id": "1cae8acb",
   "metadata": {},
   "outputs": [
    {
     "name": "stdout",
     "output_type": "stream",
     "text": [
      "raj\n"
     ]
    }
   ],
   "source": [
    "#Raj sharma\n",
    "print(\"raj\")"
   ]
  },
  {
   "cell_type": "code",
   "execution_count": 6,
   "id": "6bdf721d",
   "metadata": {},
   "outputs": [
    {
     "name": "stdout",
     "output_type": "stream",
     "text": [
      "<class 'str'>\n",
      "<class 'int'>\n"
     ]
    }
   ],
   "source": [
    "x = 3\n",
    "x = \"raj\"\n",
    "y=3\n",
    "print(type(x))\n",
    "print(type(y))"
   ]
  },
  {
   "cell_type": "code",
   "execution_count": 11,
   "id": "df1e8578",
   "metadata": {},
   "outputs": [
    {
     "name": "stdout",
     "output_type": "stream",
     "text": [
      "raj is great\n"
     ]
    }
   ],
   "source": [
    "# Assign multiple values\n",
    "x, y, z = \"raj\", \"is\", \"great\"\n",
    "print(x , y , z)"
   ]
  },
  {
   "cell_type": "code",
   "execution_count": 14,
   "id": "e9601032",
   "metadata": {},
   "outputs": [
    {
     "name": "stdout",
     "output_type": "stream",
     "text": [
      "raj is not great\n"
     ]
    }
   ],
   "source": [
    "x = \"raj is great\"\n",
    "def func():\n",
    "    global x\n",
    "    x = \"raj is not great\"\n",
    "func()\n",
    "print(x)"
   ]
  },
  {
   "cell_type": "code",
   "execution_count": 19,
   "id": "12c525ca",
   "metadata": {},
   "outputs": [
    {
     "name": "stdout",
     "output_type": "stream",
     "text": [
      "\n",
      "My name is raj sharma.\n",
      "I am in Medicaps University.\n"
     ]
    }
   ],
   "source": [
    "x = \"\"\"\n",
    "My name is raj sharma.\n",
    "I am in Medicaps University.\"\"\"\n",
    "print(x)"
   ]
  },
  {
   "cell_type": "code",
   "execution_count": null,
   "id": "46f1763e",
   "metadata": {},
   "outputs": [],
   "source": []
  }
 ],
 "metadata": {
  "kernelspec": {
   "display_name": "Python 3 (ipykernel)",
   "language": "python",
   "name": "python3"
  },
  "language_info": {
   "codemirror_mode": {
    "name": "ipython",
    "version": 3
   },
   "file_extension": ".py",
   "mimetype": "text/x-python",
   "name": "python",
   "nbconvert_exporter": "python",
   "pygments_lexer": "ipython3",
   "version": "3.9.6"
  }
 },
 "nbformat": 4,
 "nbformat_minor": 5
}
