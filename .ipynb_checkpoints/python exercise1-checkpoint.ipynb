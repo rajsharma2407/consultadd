{
 "cells": [
  {
   "cell_type": "code",
   "execution_count": 1,
   "id": "1e04503a",
   "metadata": {},
   "outputs": [
    {
     "name": "stdout",
     "output_type": "stream",
     "text": [
      "raj\n"
     ]
    }
   ],
   "source": [
    "print(\"raj\")"
   ]
  },
  {
   "cell_type": "code",
   "execution_count": 2,
   "id": "582d5b95",
   "metadata": {},
   "outputs": [
    {
     "name": "stdout",
     "output_type": "stream",
     "text": [
      "2401\n"
     ]
    }
   ],
   "source": [
    "print(7**4)"
   ]
  },
  {
   "cell_type": "code",
   "execution_count": 9,
   "id": "5f5d9173",
   "metadata": {},
   "outputs": [
    {
     "name": "stdout",
     "output_type": "stream",
     "text": [
      "['Hello', 'raj', 'sharma']\n"
     ]
    }
   ],
   "source": [
    "s = \"Hello raj sharma\"\n",
    "# a = s.split();\n",
    "print(s.split())"
   ]
  },
  {
   "cell_type": "code",
   "execution_count": 15,
   "id": "e10e9a07",
   "metadata": {},
   "outputs": [
    {
     "name": "stdout",
     "output_type": "stream",
     "text": [
      "size of Earth is 888\n"
     ]
    }
   ],
   "source": [
    "planet = \"Earth\"\n",
    "size = \"100000\"\n",
    "print('size of {} is {}'.format(planet, 888, 777,1,2,3,4,4,4,4,4,4,4,4,4,1,2,3,4,4,4,4,4,4,4,4,4,1,2,3,4,4,4,4,4,4,4,4,4,1,2,3,4,4,4,4,4,4,4,4,4,1,2,3,4,4,4,4,4,4,4,4,4,1,2,3,4,4,4,4,4,4,4,4,4))"
   ]
  },
  {
   "cell_type": "code",
   "execution_count": 16,
   "id": "e21a18d9",
   "metadata": {},
   "outputs": [
    {
     "name": "stdout",
     "output_type": "stream",
     "text": [
      "['hello']\n"
     ]
    }
   ],
   "source": [
    "lst = [1,2,[3,4],[5,[100,200,['hello']],23,11],1,7]\n",
    "print(lst[3][1][2])"
   ]
  },
  {
   "cell_type": "code",
   "execution_count": 1,
   "id": "75bddeca",
   "metadata": {},
   "outputs": [
    {
     "name": "stdout",
     "output_type": "stream",
     "text": [
      "hello\n"
     ]
    }
   ],
   "source": [
    "d = {'k1':[1,2,3,{'tricky':['oh','man','inception',{'target':[1,2,3,'hello']}]}]}\n",
    "print(d['k1'][3]['tricky'][3]['target'][3])"
   ]
  },
  {
   "cell_type": "code",
   "execution_count": 4,
   "id": "124852a4",
   "metadata": {},
   "outputs": [
    {
     "data": {
      "text/plain": [
       "'gmail.com'"
      ]
     },
     "execution_count": 4,
     "metadata": {},
     "output_type": "execute_result"
    }
   ],
   "source": [
    "def domainParser(str):\n",
    "    return str.split('@')[1]\n",
    "\n",
    "domainParser(\"raj@gmail.com\")"
   ]
  },
  {
   "cell_type": "code",
   "execution_count": 1,
   "id": "e187d5ed",
   "metadata": {},
   "outputs": [
    {
     "data": {
      "text/plain": [
       "True"
      ]
     },
     "execution_count": 1,
     "metadata": {},
     "output_type": "execute_result"
    }
   ],
   "source": [
    "def check_dog(str):\n",
    "    return \"dog\" in str\n",
    "check_dog(\"I have a dog\")"
   ]
  },
  {
   "cell_type": "code",
   "execution_count": 3,
   "id": "aa61ff94",
   "metadata": {},
   "outputs": [
    {
     "data": {
      "text/plain": [
       "['suraj', 'shazam', 'sharma']"
      ]
     },
     "execution_count": 3,
     "metadata": {},
     "output_type": "execute_result"
    }
   ],
   "source": [
    "def comp(x):\n",
    "    return x[0] == 's'\n",
    "\n",
    "def filter_words(st):\n",
    "    return list(filter(comp, st))\n",
    "filter_words([\"suraj\", \"raj\",\"shazam\", \"sharma\", \"ZXa\"])"
   ]
  },
  {
   "cell_type": "code",
   "execution_count": 5,
   "id": "c3170a94",
   "metadata": {},
   "outputs": [
    {
     "data": {
      "text/plain": [
       "['suraj', 'shazam', 'sharma']"
      ]
     },
     "execution_count": 5,
     "metadata": {},
     "output_type": "execute_result"
    }
   ],
   "source": [
    "def filter_words(st):\n",
    "    return list(filter(lambda a: a[0] == 's', st))\n",
    "filter_words([\"suraj\", \"raj\",\"shazam\", \"sharma\", \"ZXa\"])"
   ]
  },
  {
   "cell_type": "code",
   "execution_count": 8,
   "id": "82ffe02f",
   "metadata": {},
   "outputs": [
    {
     "name": "stdout",
     "output_type": "stream",
     "text": [
      "Small Ticket\n",
      "No Ticket\n",
      "Big Ticket\n"
     ]
    }
   ],
   "source": [
    "def get_ticket(speed, isBirthday):\n",
    "    additional = 0\n",
    "    if(isBirthday == True):\n",
    "        additional = 5\n",
    "    if speed <= 60+additional:\n",
    "        ans = \"No Ticket\"\n",
    "    elif speed >= 61 + additional and speed <= 80+additional:\n",
    "        ans = \"Small Ticket\"\n",
    "    else:\n",
    "        ans = \"Big Ticket\"\n",
    "    return ans\n",
    "\n",
    "print(get_ticket(62, False))\n",
    "print(get_ticket(62, True))\n",
    "print(get_ticket(82, False))\n",
    "        "
   ]
  },
  {
   "cell_type": "code",
   "execution_count": null,
   "id": "a67bd505",
   "metadata": {},
   "outputs": [],
   "source": []
  }
 ],
 "metadata": {
  "kernelspec": {
   "display_name": "Python 3 (ipykernel)",
   "language": "python",
   "name": "python3"
  },
  "language_info": {
   "codemirror_mode": {
    "name": "ipython",
    "version": 3
   },
   "file_extension": ".py",
   "mimetype": "text/x-python",
   "name": "python",
   "nbconvert_exporter": "python",
   "pygments_lexer": "ipython3",
   "version": "3.9.6"
  }
 },
 "nbformat": 4,
 "nbformat_minor": 5
}
