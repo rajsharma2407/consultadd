{
 "cells": [
  {
   "cell_type": "code",
   "execution_count": 30,
   "id": "eca67634",
   "metadata": {},
   "outputs": [
    {
     "data": {
      "text/plain": [
       "'tothohisos isos fofunon'"
      ]
     },
     "execution_count": 30,
     "metadata": {},
     "output_type": "execute_result"
    }
   ],
   "source": [
    "def translate(text):\n",
    "    ans=\"\"\n",
    "    for ch in text:\n",
    "        if(ch not in 'aeiou '):\n",
    "            ans += ch + 'o' + ch\n",
    "        else:\n",
    "            ans += ch\n",
    "    return ans\n",
    "translate('this is fun')"
   ]
  },
  {
   "cell_type": "code",
   "execution_count": 31,
   "id": "362c1ef5",
   "metadata": {},
   "outputs": [
    {
     "name": "stdout",
     "output_type": "stream",
     "text": [
      "21\n",
      "720\n"
     ]
    }
   ],
   "source": [
    "def sum(arr):\n",
    "    total = 0\n",
    "    for i in arr:\n",
    "        total += i\n",
    "    return total\n",
    "\n",
    "def multiply(arr):\n",
    "    total = 1\n",
    "    for i in arr:\n",
    "        total *= i\n",
    "    return total\n",
    "\n",
    "print(sum([1,2,3,4,5,6]))\n",
    "print(multiply([1,2,3,4,5,6]))"
   ]
  },
  {
   "cell_type": "code",
   "execution_count": 32,
   "id": "09886d93",
   "metadata": {},
   "outputs": [
    {
     "data": {
      "text/plain": [
       "'.amrahs jaR si eman yM'"
      ]
     },
     "execution_count": 32,
     "metadata": {},
     "output_type": "execute_result"
    }
   ],
   "source": [
    "def reverseString(str):\n",
    "    ans = \"\"\n",
    "    for ch in str:\n",
    "        ans = ch + ans\n",
    "    return ans\n",
    "\n",
    "reverseString('My name is Raj sharma.')"
   ]
  },
  {
   "cell_type": "code",
   "execution_count": 33,
   "id": "02cbfdf7",
   "metadata": {},
   "outputs": [
    {
     "name": "stdout",
     "output_type": "stream",
     "text": [
      "False\n",
      "True\n"
     ]
    }
   ],
   "source": [
    "def is_member(value, lst):\n",
    "    return value in lst\n",
    "\n",
    "print(is_member(\"raj\", [1,4,\"rajs\", \"ra\"]))\n",
    "print(is_member(\"raj\", [1,4,\"rajs\", \"raj\"]))"
   ]
  },
  {
   "cell_type": "code",
   "execution_count": 34,
   "id": "f718d325",
   "metadata": {},
   "outputs": [
    {
     "data": {
      "text/plain": [
       "True"
      ]
     },
     "execution_count": 34,
     "metadata": {},
     "output_type": "execute_result"
    }
   ],
   "source": [
    "def overlapping(lst1, lst2):\n",
    "    for x in lst1:\n",
    "        if x in lst2:\n",
    "            return True\n",
    "    return False\n",
    "\n",
    "overlapping([1,2,3,4,5,6],[7,8,9,1,11])"
   ]
  },
  {
   "cell_type": "code",
   "execution_count": 35,
   "id": "8dd58f52",
   "metadata": {},
   "outputs": [
    {
     "name": "stdout",
     "output_type": "stream",
     "text": [
      "*\n",
      "***\n",
      "*****\n",
      "*******\n"
     ]
    }
   ],
   "source": [
    "def histogram(lst):\n",
    "    for x in lst:\n",
    "        print('*'*x)\n",
    "\n",
    "histogram([1,3,5,7])"
   ]
  },
  {
   "cell_type": "code",
   "execution_count": 36,
   "id": "3ef6681f",
   "metadata": {},
   "outputs": [
    {
     "data": {
      "text/plain": [
       "{'a': 5, 'b': 2, 'r': 2, 'c': 1, 'd': 1}"
      ]
     },
     "execution_count": 36,
     "metadata": {},
     "output_type": "execute_result"
    }
   ],
   "source": [
    "def count_frequency(str):\n",
    "    d = {}\n",
    "    for ch in str:\n",
    "        if(ch in d.keys()):\n",
    "            d[ch] = d[ch]+1\n",
    "        else:\n",
    "            d[ch] = 1\n",
    "    return d\n",
    "\n",
    "count_frequency('abracadabra')\n",
    "    "
   ]
  },
  {
   "cell_type": "code",
   "execution_count": 37,
   "id": "b9f8a425",
   "metadata": {},
   "outputs": [
    {
     "data": {
      "text/plain": [
       "True"
      ]
     },
     "execution_count": 37,
     "metadata": {},
     "output_type": "execute_result"
    }
   ],
   "source": [
    "def is_palindrome(str):\n",
    "    return str == str[::-1]\n",
    "is_palindrome(\"radar\")"
   ]
  },
  {
   "cell_type": "code",
   "execution_count": 38,
   "id": "4fe555e1",
   "metadata": {},
   "outputs": [
    {
     "name": "stdout",
     "output_type": "stream",
     "text": [
      "Enter a number10\n",
      "Your guess is too low\n",
      "Enter another number13\n",
      "Right guess Hurrayy!!\n",
      "13\n"
     ]
    }
   ],
   "source": [
    "import random\n",
    "def start(y):\n",
    "    x = int(input(\"Enter a number\"))\n",
    "    while(x != y):\n",
    "        if x < y:\n",
    "            print(\"Your guess is too low\")\n",
    "        elif y < x:\n",
    "            print(\"Your guess is too high\")\n",
    "        x = int(input(\"Enter another number\"))\n",
    "    print(\"Right guess Hurrayy!!\")\n",
    "\n",
    "y = random.randint(1, 20)\n",
    "start(y)\n",
    "print(y)"
   ]
  },
  {
   "cell_type": "code",
   "execution_count": 39,
   "id": "05e73685",
   "metadata": {},
   "outputs": [
    {
     "data": {
      "text/plain": [
       "[3, 6, 2]"
      ]
     },
     "execution_count": 39,
     "metadata": {},
     "output_type": "execute_result"
    }
   ],
   "source": [
    "def map_int(x):\n",
    "    lst = []\n",
    "    for y in x:\n",
    "        lst.append(len(y))\n",
    "    return lst\n",
    "map_int([\"raj\", \"sharma\", \"is\"])"
   ]
  },
  {
   "cell_type": "code",
   "execution_count": null,
   "id": "09dd9924",
   "metadata": {},
   "outputs": [],
   "source": []
  }
 ],
 "metadata": {
  "kernelspec": {
   "display_name": "Python 3 (ipykernel)",
   "language": "python",
   "name": "python3"
  },
  "language_info": {
   "codemirror_mode": {
    "name": "ipython",
    "version": 3
   },
   "file_extension": ".py",
   "mimetype": "text/x-python",
   "name": "python",
   "nbconvert_exporter": "python",
   "pygments_lexer": "ipython3",
   "version": "3.9.6"
  }
 },
 "nbformat": 4,
 "nbformat_minor": 5
}
